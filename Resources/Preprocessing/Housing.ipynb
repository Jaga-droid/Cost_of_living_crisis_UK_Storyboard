{
 "cells": [
  {
   "cell_type": "code",
   "execution_count": 1,
   "metadata": {},
   "outputs": [],
   "source": [
    "import pandas as pd\n",
    "import numpy as np"
   ]
  },
  {
   "cell_type": "code",
   "execution_count": 15,
   "metadata": {},
   "outputs": [],
   "source": [
    "dfs = pd.read_csv(r'C:\\Users\\Jagatheesh\\OneDrive\\Desktop\\Heriot_Watt_University_Msc_Data_Science\\Data_Viz_CW2\\Cost_of_living_crisis_UK_Storyboard\\Resources\\DataSet\\HousePriceIndex.csv')\n",
    "pd.options.display.float_format = '{:.2f}'.format"
   ]
  },
  {
   "cell_type": "code",
   "execution_count": 16,
   "metadata": {},
   "outputs": [],
   "source": [
    "dfs['year']=dfs['Date'].apply(lambda x:x[-4:])\n",
    "dfs1=dfs[dfs['year'].isin(['2004','2005','2006','2007','2008'])]\n",
    "dfs2=dfs[dfs['year'].isin(['2020','2021','2022'])]\n",
    "# final=dfs[['RegionName','AveragePrice']].groupby('RegionName').mean().sort_values(by='AveragePrice',ascending=False)"
   ]
  },
  {
   "cell_type": "code",
   "execution_count": 4,
   "metadata": {},
   "outputs": [],
   "source": [
    "final['RegionName']=final.index\n",
    "final.index=[x for x in range(0,len(final))]"
   ]
  },
  {
   "cell_type": "code",
   "execution_count": 5,
   "metadata": {},
   "outputs": [
    {
     "name": "stdout",
     "output_type": "stream",
     "text": [
      "West Midlands Region\n",
      "East Midlands\n",
      "West Midlands\n"
     ]
    }
   ],
   "source": [
    "for i in final['RegionName'].unique():\n",
    "    if 'midlands' in str.lower(i):\n",
    "        print(i)\n",
    " "
   ]
  },
  {
   "cell_type": "code",
   "execution_count": 6,
   "metadata": {},
   "outputs": [],
   "source": [
    "regions=['Wales',\n",
    "'Scotland',\n",
    "'Northern Ireland',\n",
    "'South West',\n",
    "'South East',\n",
    "'London',\n",
    "'East',\n",
    "'West Midlands',\n",
    "'East Midlands',\n",
    "'Yorkshire and the Humber',\n",
    "'North West',\n",
    "'North East']\n"
   ]
  },
  {
   "cell_type": "code",
   "execution_count": 7,
   "metadata": {},
   "outputs": [
    {
     "data": {
      "text/html": [
       "<div>\n",
       "<style scoped>\n",
       "    .dataframe tbody tr th:only-of-type {\n",
       "        vertical-align: middle;\n",
       "    }\n",
       "\n",
       "    .dataframe tbody tr th {\n",
       "        vertical-align: top;\n",
       "    }\n",
       "\n",
       "    .dataframe thead th {\n",
       "        text-align: right;\n",
       "    }\n",
       "</style>\n",
       "<table border=\"1\" class=\"dataframe\">\n",
       "  <thead>\n",
       "    <tr style=\"text-align: right;\">\n",
       "      <th></th>\n",
       "      <th>AveragePrice</th>\n",
       "      <th>RegionName</th>\n",
       "    </tr>\n",
       "  </thead>\n",
       "  <tbody>\n",
       "    <tr>\n",
       "      <th>0</th>\n",
       "      <td>494927.39</td>\n",
       "      <td>London</td>\n",
       "    </tr>\n",
       "    <tr>\n",
       "      <th>1</th>\n",
       "      <td>342554.25</td>\n",
       "      <td>South East</td>\n",
       "    </tr>\n",
       "    <tr>\n",
       "      <th>2</th>\n",
       "      <td>278018.08</td>\n",
       "      <td>South West</td>\n",
       "    </tr>\n",
       "    <tr>\n",
       "      <th>3</th>\n",
       "      <td>210887.47</td>\n",
       "      <td>East Midlands</td>\n",
       "    </tr>\n",
       "    <tr>\n",
       "      <th>4</th>\n",
       "      <td>198480.45</td>\n",
       "      <td>West Midlands</td>\n",
       "    </tr>\n",
       "    <tr>\n",
       "      <th>5</th>\n",
       "      <td>181632.58</td>\n",
       "      <td>North West</td>\n",
       "    </tr>\n",
       "    <tr>\n",
       "      <th>6</th>\n",
       "      <td>181475.89</td>\n",
       "      <td>Wales</td>\n",
       "    </tr>\n",
       "    <tr>\n",
       "      <th>7</th>\n",
       "      <td>165224.37</td>\n",
       "      <td>Scotland</td>\n",
       "    </tr>\n",
       "    <tr>\n",
       "      <th>8</th>\n",
       "      <td>149687.74</td>\n",
       "      <td>Northern Ireland</td>\n",
       "    </tr>\n",
       "    <tr>\n",
       "      <th>9</th>\n",
       "      <td>138452.78</td>\n",
       "      <td>North East</td>\n",
       "    </tr>\n",
       "  </tbody>\n",
       "</table>\n",
       "</div>"
      ],
      "text/plain": [
       "   AveragePrice        RegionName\n",
       "0     494927.39            London\n",
       "1     342554.25        South East\n",
       "2     278018.08        South West\n",
       "3     210887.47     East Midlands\n",
       "4     198480.45     West Midlands\n",
       "5     181632.58        North West\n",
       "6     181475.89             Wales\n",
       "7     165224.37          Scotland\n",
       "8     149687.74  Northern Ireland\n",
       "9     138452.78        North East"
      ]
     },
     "execution_count": 7,
     "metadata": {},
     "output_type": "execute_result"
    }
   ],
   "source": [
    "map_data=final[final['RegionName'].isin(regions)].reset_index(drop=True)\n",
    "map_data"
   ]
  },
  {
   "cell_type": "code",
   "execution_count": 8,
   "metadata": {},
   "outputs": [],
   "source": [
    "map_data.rename(columns={'AveragePrice':'MedianPrice'},inplace=True)\n",
    "map_data.to_csv('housepriceregion.csv')"
   ]
  },
  {
   "cell_type": "code",
   "execution_count": 17,
   "metadata": {},
   "outputs": [],
   "source": [
    "times_early=dfs1.copy()\n",
    "times_early=times_early[times_early['RegionName'].isin(regions)]\n",
    "times_late=dfs2.copy()\n",
    "times_late=times_late[times_late['RegionName'].isin(regions)]"
   ]
  },
  {
   "cell_type": "code",
   "execution_count": 23,
   "metadata": {},
   "outputs": [],
   "source": [
    "times_late=times_late[['Date','AveragePrice']]"
   ]
  },
  {
   "cell_type": "code",
   "execution_count": 24,
   "metadata": {},
   "outputs": [],
   "source": [
    "times_early=times_early[['Date','AveragePrice']]"
   ]
  },
  {
   "cell_type": "code",
   "execution_count": 26,
   "metadata": {},
   "outputs": [
    {
     "name": "stderr",
     "output_type": "stream",
     "text": [
      "C:\\Users\\Jagatheesh\\AppData\\Local\\Temp\\ipykernel_29500\\2721325884.py:1: SettingWithCopyWarning: \n",
      "A value is trying to be set on a copy of a slice from a DataFrame.\n",
      "Try using .loc[row_indexer,col_indexer] = value instead\n",
      "\n",
      "See the caveats in the documentation: https://pandas.pydata.org/pandas-docs/stable/user_guide/indexing.html#returning-a-view-versus-a-copy\n",
      "  times_early['Date'] = pd.to_datetime(times_early['Date'])\n",
      "C:\\Users\\Jagatheesh\\AppData\\Local\\Temp\\ipykernel_29500\\2721325884.py:2: SettingWithCopyWarning: \n",
      "A value is trying to be set on a copy of a slice from a DataFrame.\n",
      "Try using .loc[row_indexer,col_indexer] = value instead\n",
      "\n",
      "See the caveats in the documentation: https://pandas.pydata.org/pandas-docs/stable/user_guide/indexing.html#returning-a-view-versus-a-copy\n",
      "  times_late['Date']=pd.to_datetime(times_late['Date'])\n"
     ]
    }
   ],
   "source": [
    "times_early['Date'] = pd.to_datetime(times_early['Date'])\n",
    "times_late['Date']=pd.to_datetime(times_late['Date'])\n"
   ]
  },
  {
   "cell_type": "code",
   "execution_count": 31,
   "metadata": {},
   "outputs": [
    {
     "data": {
      "text/html": [
       "<div>\n",
       "<style scoped>\n",
       "    .dataframe tbody tr th:only-of-type {\n",
       "        vertical-align: middle;\n",
       "    }\n",
       "\n",
       "    .dataframe tbody tr th {\n",
       "        vertical-align: top;\n",
       "    }\n",
       "\n",
       "    .dataframe thead th {\n",
       "        text-align: right;\n",
       "    }\n",
       "</style>\n",
       "<table border=\"1\" class=\"dataframe\">\n",
       "  <thead>\n",
       "    <tr style=\"text-align: right;\">\n",
       "      <th></th>\n",
       "      <th>Date</th>\n",
       "      <th>AveragePrice</th>\n",
       "    </tr>\n",
       "  </thead>\n",
       "  <tbody>\n",
       "    <tr>\n",
       "      <th>36763</th>\n",
       "      <td>2004-01-01</td>\n",
       "      <td>119410.69</td>\n",
       "    </tr>\n",
       "    <tr>\n",
       "      <th>77066</th>\n",
       "      <td>2004-01-01</td>\n",
       "      <td>90993.71</td>\n",
       "    </tr>\n",
       "    <tr>\n",
       "      <th>80858</th>\n",
       "      <td>2004-01-01</td>\n",
       "      <td>95631.70</td>\n",
       "    </tr>\n",
       "    <tr>\n",
       "      <th>82154</th>\n",
       "      <td>2004-01-01</td>\n",
       "      <td>96619.58</td>\n",
       "    </tr>\n",
       "    <tr>\n",
       "      <th>95476</th>\n",
       "      <td>2004-01-01</td>\n",
       "      <td>79664.53</td>\n",
       "    </tr>\n",
       "    <tr>\n",
       "      <th>...</th>\n",
       "      <td>...</td>\n",
       "      <td>...</td>\n",
       "    </tr>\n",
       "    <tr>\n",
       "      <th>121823</th>\n",
       "      <td>2022-01-01</td>\n",
       "      <td>206251.08</td>\n",
       "    </tr>\n",
       "    <tr>\n",
       "      <th>95692</th>\n",
       "      <td>2022-01-01</td>\n",
       "      <td>182785.72</td>\n",
       "    </tr>\n",
       "    <tr>\n",
       "      <th>100601</th>\n",
       "      <td>2022-01-01</td>\n",
       "      <td>378311.47</td>\n",
       "    </tr>\n",
       "    <tr>\n",
       "      <th>66341</th>\n",
       "      <td>2022-01-01</td>\n",
       "      <td>510102.40</td>\n",
       "    </tr>\n",
       "    <tr>\n",
       "      <th>127132</th>\n",
       "      <td>2022-01-01</td>\n",
       "      <td>215090.83</td>\n",
       "    </tr>\n",
       "  </tbody>\n",
       "</table>\n",
       "<p>850 rows × 2 columns</p>\n",
       "</div>"
      ],
      "text/plain": [
       "             Date  AveragePrice\n",
       "36763  2004-01-01     119410.69\n",
       "77066  2004-01-01      90993.71\n",
       "80858  2004-01-01      95631.70\n",
       "82154  2004-01-01      96619.58\n",
       "95476  2004-01-01      79664.53\n",
       "...           ...           ...\n",
       "121823 2022-01-01     206251.08\n",
       "95692  2022-01-01     182785.72\n",
       "100601 2022-01-01     378311.47\n",
       "66341  2022-01-01     510102.40\n",
       "127132 2022-01-01     215090.83\n",
       "\n",
       "[850 rows x 2 columns]"
      ]
     },
     "execution_count": 31,
     "metadata": {},
     "output_type": "execute_result"
    }
   ],
   "source": [
    "mytime=pd.concat([times_early,times_late])\n",
    "mytime.sort_values(by='Date',inplace=True)\n",
    "mytime"
   ]
  },
  {
   "cell_type": "code",
   "execution_count": 36,
   "metadata": {},
   "outputs": [
    {
     "data": {
      "text/html": [
       "<div>\n",
       "<style scoped>\n",
       "    .dataframe tbody tr th:only-of-type {\n",
       "        vertical-align: middle;\n",
       "    }\n",
       "\n",
       "    .dataframe tbody tr th {\n",
       "        vertical-align: top;\n",
       "    }\n",
       "\n",
       "    .dataframe thead th {\n",
       "        text-align: right;\n",
       "    }\n",
       "</style>\n",
       "<table border=\"1\" class=\"dataframe\">\n",
       "  <thead>\n",
       "    <tr style=\"text-align: right;\">\n",
       "      <th></th>\n",
       "      <th>Date</th>\n",
       "      <th>AveragePrice</th>\n",
       "      <th>Year</th>\n",
       "    </tr>\n",
       "  </thead>\n",
       "  <tbody>\n",
       "    <tr>\n",
       "      <th>36763</th>\n",
       "      <td>2004-01-01</td>\n",
       "      <td>119410.69</td>\n",
       "      <td>2004</td>\n",
       "    </tr>\n",
       "    <tr>\n",
       "      <th>77066</th>\n",
       "      <td>2004-01-01</td>\n",
       "      <td>90993.71</td>\n",
       "      <td>2004</td>\n",
       "    </tr>\n",
       "    <tr>\n",
       "      <th>80858</th>\n",
       "      <td>2004-01-01</td>\n",
       "      <td>95631.70</td>\n",
       "      <td>2004</td>\n",
       "    </tr>\n",
       "    <tr>\n",
       "      <th>82154</th>\n",
       "      <td>2004-01-01</td>\n",
       "      <td>96619.58</td>\n",
       "      <td>2004</td>\n",
       "    </tr>\n",
       "    <tr>\n",
       "      <th>95476</th>\n",
       "      <td>2004-01-01</td>\n",
       "      <td>79664.53</td>\n",
       "      <td>2004</td>\n",
       "    </tr>\n",
       "    <tr>\n",
       "      <th>...</th>\n",
       "      <td>...</td>\n",
       "      <td>...</td>\n",
       "      <td>...</td>\n",
       "    </tr>\n",
       "    <tr>\n",
       "      <th>121823</th>\n",
       "      <td>2022-01-01</td>\n",
       "      <td>206251.08</td>\n",
       "      <td>2022</td>\n",
       "    </tr>\n",
       "    <tr>\n",
       "      <th>95692</th>\n",
       "      <td>2022-01-01</td>\n",
       "      <td>182785.72</td>\n",
       "      <td>2022</td>\n",
       "    </tr>\n",
       "    <tr>\n",
       "      <th>100601</th>\n",
       "      <td>2022-01-01</td>\n",
       "      <td>378311.47</td>\n",
       "      <td>2022</td>\n",
       "    </tr>\n",
       "    <tr>\n",
       "      <th>66341</th>\n",
       "      <td>2022-01-01</td>\n",
       "      <td>510102.40</td>\n",
       "      <td>2022</td>\n",
       "    </tr>\n",
       "    <tr>\n",
       "      <th>127132</th>\n",
       "      <td>2022-01-01</td>\n",
       "      <td>215090.83</td>\n",
       "      <td>2022</td>\n",
       "    </tr>\n",
       "  </tbody>\n",
       "</table>\n",
       "<p>850 rows × 3 columns</p>\n",
       "</div>"
      ],
      "text/plain": [
       "             Date  AveragePrice  Year\n",
       "36763  2004-01-01     119410.69  2004\n",
       "77066  2004-01-01      90993.71  2004\n",
       "80858  2004-01-01      95631.70  2004\n",
       "82154  2004-01-01      96619.58  2004\n",
       "95476  2004-01-01      79664.53  2004\n",
       "...           ...           ...   ...\n",
       "121823 2022-01-01     206251.08  2022\n",
       "95692  2022-01-01     182785.72  2022\n",
       "100601 2022-01-01     378311.47  2022\n",
       "66341  2022-01-01     510102.40  2022\n",
       "127132 2022-01-01     215090.83  2022\n",
       "\n",
       "[850 rows x 3 columns]"
      ]
     },
     "execution_count": 36,
     "metadata": {},
     "output_type": "execute_result"
    }
   ],
   "source": [
    "mytime['Year'] = mytime['Date'].dt.year\n",
    "mytime"
   ]
  },
  {
   "cell_type": "code",
   "execution_count": 37,
   "metadata": {},
   "outputs": [
    {
     "data": {
      "text/html": [
       "<div>\n",
       "<style scoped>\n",
       "    .dataframe tbody tr th:only-of-type {\n",
       "        vertical-align: middle;\n",
       "    }\n",
       "\n",
       "    .dataframe tbody tr th {\n",
       "        vertical-align: top;\n",
       "    }\n",
       "\n",
       "    .dataframe thead th {\n",
       "        text-align: right;\n",
       "    }\n",
       "</style>\n",
       "<table border=\"1\" class=\"dataframe\">\n",
       "  <thead>\n",
       "    <tr style=\"text-align: right;\">\n",
       "      <th></th>\n",
       "      <th>AveragePrice</th>\n",
       "    </tr>\n",
       "    <tr>\n",
       "      <th>Year</th>\n",
       "      <th></th>\n",
       "    </tr>\n",
       "  </thead>\n",
       "  <tbody>\n",
       "    <tr>\n",
       "      <th>2004</th>\n",
       "      <td>136467.08</td>\n",
       "    </tr>\n",
       "    <tr>\n",
       "      <th>2005</th>\n",
       "      <td>148352.87</td>\n",
       "    </tr>\n",
       "    <tr>\n",
       "      <th>2006</th>\n",
       "      <td>161408.48</td>\n",
       "    </tr>\n",
       "    <tr>\n",
       "      <th>2007</th>\n",
       "      <td>181036.24</td>\n",
       "    </tr>\n",
       "    <tr>\n",
       "      <th>2008</th>\n",
       "      <td>171490.21</td>\n",
       "    </tr>\n",
       "    <tr>\n",
       "      <th>2020</th>\n",
       "      <td>223422.42</td>\n",
       "    </tr>\n",
       "    <tr>\n",
       "      <th>2021</th>\n",
       "      <td>243146.62</td>\n",
       "    </tr>\n",
       "    <tr>\n",
       "      <th>2022</th>\n",
       "      <td>254524.03</td>\n",
       "    </tr>\n",
       "  </tbody>\n",
       "</table>\n",
       "</div>"
      ],
      "text/plain": [
       "      AveragePrice\n",
       "Year              \n",
       "2004     136467.08\n",
       "2005     148352.87\n",
       "2006     161408.48\n",
       "2007     181036.24\n",
       "2008     171490.21\n",
       "2020     223422.42\n",
       "2021     243146.62\n",
       "2022     254524.03"
      ]
     },
     "execution_count": 37,
     "metadata": {},
     "output_type": "execute_result"
    }
   ],
   "source": [
    "mytime=mytime[['Year','AveragePrice']]\n",
    "mytime=mytime.groupby('Year').mean()\n",
    "mytime"
   ]
  },
  {
   "cell_type": "code",
   "execution_count": null,
   "metadata": {},
   "outputs": [],
   "source": []
  }
 ],
 "metadata": {
  "kernelspec": {
   "display_name": "Python 3",
   "language": "python",
   "name": "python3"
  },
  "language_info": {
   "codemirror_mode": {
    "name": "ipython",
    "version": 3
   },
   "file_extension": ".py",
   "mimetype": "text/x-python",
   "name": "python",
   "nbconvert_exporter": "python",
   "pygments_lexer": "ipython3",
   "version": "3.11.0"
  },
  "orig_nbformat": 4
 },
 "nbformat": 4,
 "nbformat_minor": 2
}
