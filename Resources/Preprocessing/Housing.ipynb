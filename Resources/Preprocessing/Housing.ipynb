{
 "cells": [
  {
   "cell_type": "code",
   "execution_count": 1,
   "metadata": {},
   "outputs": [],
   "source": [
    "import pandas as pd\n",
    "import numpy as np"
   ]
  },
  {
   "cell_type": "code",
   "execution_count": 34,
   "metadata": {},
   "outputs": [],
   "source": [
    "dfs = pd.read_csv(r'C:\\Users\\Jagatheesh\\OneDrive\\Desktop\\Heriot_Watt_University_Msc_Data_Science\\Data_Viz_CW2\\Cost_of_living_crisis_UK_Storyboard\\Resources\\DataSet\\HousePriceIndex.csv')\n",
    "pd.options.display.float_format = '{:.2f}'.format"
   ]
  },
  {
   "cell_type": "code",
   "execution_count": 36,
   "metadata": {},
   "outputs": [
    {
     "data": {
      "text/html": [
       "<div>\n",
       "<style scoped>\n",
       "    .dataframe tbody tr th:only-of-type {\n",
       "        vertical-align: middle;\n",
       "    }\n",
       "\n",
       "    .dataframe tbody tr th {\n",
       "        vertical-align: top;\n",
       "    }\n",
       "\n",
       "    .dataframe thead th {\n",
       "        text-align: right;\n",
       "    }\n",
       "</style>\n",
       "<table border=\"1\" class=\"dataframe\">\n",
       "  <thead>\n",
       "    <tr style=\"text-align: right;\">\n",
       "      <th></th>\n",
       "      <th>AveragePrice</th>\n",
       "    </tr>\n",
       "    <tr>\n",
       "      <th>RegionName</th>\n",
       "      <th></th>\n",
       "    </tr>\n",
       "  </thead>\n",
       "  <tbody>\n",
       "    <tr>\n",
       "      <th>Kensington and Chelsea</th>\n",
       "      <td>1331323.76</td>\n",
       "    </tr>\n",
       "    <tr>\n",
       "      <th>City of Westminster</th>\n",
       "      <td>962249.95</td>\n",
       "    </tr>\n",
       "    <tr>\n",
       "      <th>Camden</th>\n",
       "      <td>844639.25</td>\n",
       "    </tr>\n",
       "    <tr>\n",
       "      <th>City of London</th>\n",
       "      <td>810523.72</td>\n",
       "    </tr>\n",
       "    <tr>\n",
       "      <th>Hammersmith and Fulham</th>\n",
       "      <td>746377.81</td>\n",
       "    </tr>\n",
       "    <tr>\n",
       "      <th>...</th>\n",
       "      <td>...</td>\n",
       "    </tr>\n",
       "    <tr>\n",
       "      <th>Inverclyde</th>\n",
       "      <td>107507.68</td>\n",
       "    </tr>\n",
       "    <tr>\n",
       "      <th>Hyndburn</th>\n",
       "      <td>107395.11</td>\n",
       "    </tr>\n",
       "    <tr>\n",
       "      <th>East Ayrshire</th>\n",
       "      <td>106067.55</td>\n",
       "    </tr>\n",
       "    <tr>\n",
       "      <th>Blaenau Gwent</th>\n",
       "      <td>103723.13</td>\n",
       "    </tr>\n",
       "    <tr>\n",
       "      <th>Burnley</th>\n",
       "      <td>97600.94</td>\n",
       "    </tr>\n",
       "  </tbody>\n",
       "</table>\n",
       "<p>421 rows × 1 columns</p>\n",
       "</div>"
      ],
      "text/plain": [
       "                        AveragePrice\n",
       "RegionName                          \n",
       "Kensington and Chelsea    1331323.76\n",
       "City of Westminster        962249.95\n",
       "Camden                     844639.25\n",
       "City of London             810523.72\n",
       "Hammersmith and Fulham     746377.81\n",
       "...                              ...\n",
       "Inverclyde                 107507.68\n",
       "Hyndburn                   107395.11\n",
       "East Ayrshire              106067.55\n",
       "Blaenau Gwent              103723.13\n",
       "Burnley                     97600.94\n",
       "\n",
       "[421 rows x 1 columns]"
      ]
     },
     "execution_count": 36,
     "metadata": {},
     "output_type": "execute_result"
    }
   ],
   "source": [
    "dfs['year']=dfs['Date'].apply(lambda x:x[-4:])\n",
    "dfs=dfs[dfs['year'].isin(['2020','2021','2022'])]\n",
    "dfs[['RegionName','AveragePrice']].groupby('RegionName').mean().sort_values(by='AveragePrice',ascending=False)"
   ]
  },
  {
   "cell_type": "code",
   "execution_count": 28,
   "metadata": {},
   "outputs": [
    {
     "data": {
      "text/plain": [
       "'2004'"
      ]
     },
     "execution_count": 28,
     "metadata": {},
     "output_type": "execute_result"
    }
   ],
   "source": [
    "dfs['Date'].values[0][-4:]"
   ]
  },
  {
   "cell_type": "code",
   "execution_count": null,
   "metadata": {},
   "outputs": [],
   "source": []
  }
 ],
 "metadata": {
  "kernelspec": {
   "display_name": "Python 3",
   "language": "python",
   "name": "python3"
  },
  "language_info": {
   "codemirror_mode": {
    "name": "ipython",
    "version": 3
   },
   "file_extension": ".py",
   "mimetype": "text/x-python",
   "name": "python",
   "nbconvert_exporter": "python",
   "pygments_lexer": "ipython3",
   "version": "3.11.0"
  },
  "orig_nbformat": 4
 },
 "nbformat": 4,
 "nbformat_minor": 2
}
