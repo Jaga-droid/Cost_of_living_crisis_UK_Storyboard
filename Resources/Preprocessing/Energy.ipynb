{
 "cells": [
  {
   "cell_type": "code",
   "execution_count": 2,
   "metadata": {},
   "outputs": [],
   "source": [
    "import pandas as pd\n",
    "import numpy as np"
   ]
  },
  {
   "cell_type": "code",
   "execution_count": 5,
   "metadata": {},
   "outputs": [],
   "source": [
    "sheet_list=['Cover Sheet','Contents','2.2.2','2.2.2 (Real)','2.2.2 (Economy 7)','2.2.2 (Economy 7 Real)','2.2.2 (Financial Year)','2.2.2 (Financial Year E7)','Methodology']"
   ]
  },
  {
   "cell_type": "code",
   "execution_count": 6,
   "metadata": {},
   "outputs": [],
   "source": [
    "dfs = pd.read_excel(r'C:\\Users\\Jagatheesh\\OneDrive\\Desktop\\Heriot_Watt_University_Msc_Data_Science\\Data_Viz_CW2\\Cost_of_living_crisis_UK_Storyboard\\Resources\\DataSet\\Energy.xlsx', sheet_name=sheet_list)"
   ]
  },
  {
   "cell_type": "code",
   "execution_count": 7,
   "metadata": {},
   "outputs": [],
   "source": [
    "df_list=[dfs[i] for i in sheet_list]"
   ]
  },
  {
   "cell_type": "code",
   "execution_count": 8,
   "metadata": {},
   "outputs": [
    {
     "data": {
      "text/plain": [
       "['Cover Sheet',\n",
       " 'Contents',\n",
       " '2.2.2',\n",
       " '2.2.2 (Real)',\n",
       " '2.2.2 (Economy 7)',\n",
       " '2.2.2 (Economy 7 Real)',\n",
       " '2.2.2 (Financial Year)',\n",
       " '2.2.2 (Financial Year E7)',\n",
       " 'Methodology']"
      ]
     },
     "execution_count": 8,
     "metadata": {},
     "output_type": "execute_result"
    }
   ],
   "source": [
    "sheet_list"
   ]
  },
  {
   "cell_type": "code",
   "execution_count": 16,
   "metadata": {},
   "outputs": [
    {
     "data": {
      "text/html": [
       "<div>\n",
       "<style scoped>\n",
       "    .dataframe tbody tr th:only-of-type {\n",
       "        vertical-align: middle;\n",
       "    }\n",
       "\n",
       "    .dataframe tbody tr th {\n",
       "        vertical-align: top;\n",
       "    }\n",
       "\n",
       "    .dataframe thead th {\n",
       "        text-align: right;\n",
       "    }\n",
       "</style>\n",
       "<table border=\"1\" class=\"dataframe\">\n",
       "  <thead>\n",
       "    <tr style=\"text-align: right;\">\n",
       "      <th></th>\n",
       "      <th>Unnamed: 10</th>\n",
       "      <th>Unnamed: 11</th>\n",
       "      <th>Unnamed: 12</th>\n",
       "    </tr>\n",
       "  </thead>\n",
       "  <tbody>\n",
       "    <tr>\n",
       "      <th>10</th>\n",
       "      <td>530.997676</td>\n",
       "      <td>533.254637</td>\n",
       "      <td>464.615593</td>\n",
       "    </tr>\n",
       "    <tr>\n",
       "      <th>11</th>\n",
       "      <td>563.865486</td>\n",
       "      <td>567.566168</td>\n",
       "      <td>493.297836</td>\n",
       "    </tr>\n",
       "    <tr>\n",
       "      <th>12</th>\n",
       "      <td>600.921867</td>\n",
       "      <td>605.232355</td>\n",
       "      <td>542.292722</td>\n",
       "    </tr>\n",
       "    <tr>\n",
       "      <th>13</th>\n",
       "      <td>572.452608</td>\n",
       "      <td>575.848205</td>\n",
       "      <td>532.129148</td>\n",
       "    </tr>\n",
       "    <tr>\n",
       "      <th>14</th>\n",
       "      <td>624.865698</td>\n",
       "      <td>623.813857</td>\n",
       "      <td>566.774179</td>\n",
       "    </tr>\n",
       "    <tr>\n",
       "      <th>15</th>\n",
       "      <td>1100.699246</td>\n",
       "      <td>1121.380032</td>\n",
       "      <td>781.120522</td>\n",
       "    </tr>\n",
       "  </tbody>\n",
       "</table>\n",
       "</div>"
      ],
      "text/plain": [
       "    Unnamed: 10  Unnamed: 11 Unnamed: 12\n",
       "10   530.997676   533.254637  464.615593\n",
       "11   563.865486   567.566168  493.297836\n",
       "12   600.921867   605.232355  542.292722\n",
       "13   572.452608   575.848205  532.129148\n",
       "14   624.865698   623.813857  566.774179\n",
       "15  1100.699246  1121.380032  781.120522"
      ]
     },
     "execution_count": 16,
     "metadata": {},
     "output_type": "execute_result"
    }
   ],
   "source": [
    "bills=df_list[3].iloc[10:,-3:]\n",
    "bills"
   ]
  },
  {
   "cell_type": "code",
   "execution_count": 17,
   "metadata": {},
   "outputs": [
    {
     "data": {
      "text/html": [
       "<div>\n",
       "<style scoped>\n",
       "    .dataframe tbody tr th:only-of-type {\n",
       "        vertical-align: middle;\n",
       "    }\n",
       "\n",
       "    .dataframe tbody tr th {\n",
       "        vertical-align: top;\n",
       "    }\n",
       "\n",
       "    .dataframe thead th {\n",
       "        text-align: right;\n",
       "    }\n",
       "</style>\n",
       "<table border=\"1\" class=\"dataframe\">\n",
       "  <thead>\n",
       "    <tr style=\"text-align: right;\">\n",
       "      <th></th>\n",
       "      <th>England and Wales</th>\n",
       "      <th>Scotland</th>\n",
       "      <th>Ireland</th>\n",
       "    </tr>\n",
       "  </thead>\n",
       "  <tbody>\n",
       "    <tr>\n",
       "      <th>10</th>\n",
       "      <td>530.997676</td>\n",
       "      <td>533.254637</td>\n",
       "      <td>464.615593</td>\n",
       "    </tr>\n",
       "    <tr>\n",
       "      <th>11</th>\n",
       "      <td>563.865486</td>\n",
       "      <td>567.566168</td>\n",
       "      <td>493.297836</td>\n",
       "    </tr>\n",
       "    <tr>\n",
       "      <th>12</th>\n",
       "      <td>600.921867</td>\n",
       "      <td>605.232355</td>\n",
       "      <td>542.292722</td>\n",
       "    </tr>\n",
       "    <tr>\n",
       "      <th>13</th>\n",
       "      <td>572.452608</td>\n",
       "      <td>575.848205</td>\n",
       "      <td>532.129148</td>\n",
       "    </tr>\n",
       "    <tr>\n",
       "      <th>14</th>\n",
       "      <td>624.865698</td>\n",
       "      <td>623.813857</td>\n",
       "      <td>566.774179</td>\n",
       "    </tr>\n",
       "    <tr>\n",
       "      <th>15</th>\n",
       "      <td>1100.699246</td>\n",
       "      <td>1121.380032</td>\n",
       "      <td>781.120522</td>\n",
       "    </tr>\n",
       "  </tbody>\n",
       "</table>\n",
       "</div>"
      ],
      "text/plain": [
       "   England and Wales     Scotland     Ireland\n",
       "10        530.997676   533.254637  464.615593\n",
       "11        563.865486   567.566168  493.297836\n",
       "12        600.921867   605.232355  542.292722\n",
       "13        572.452608   575.848205  532.129148\n",
       "14        624.865698   623.813857  566.774179\n",
       "15       1100.699246  1121.380032  781.120522"
      ]
     },
     "execution_count": 17,
     "metadata": {},
     "output_type": "execute_result"
    }
   ],
   "source": [
    "bills.rename(columns={'Unnamed: 10':'England and Wales','Unnamed: 11':'Scotland','Unnamed: 12':'Ireland'},inplace=True)\n",
    "bills"
   ]
  },
  {
   "cell_type": "code",
   "execution_count": 18,
   "metadata": {},
   "outputs": [],
   "source": [
    "bills.to_csv('avg_energy_bill.csv')"
   ]
  },
  {
   "cell_type": "code",
   "execution_count": 23,
   "metadata": {},
   "outputs": [
    {
     "name": "stdout",
     "output_type": "stream",
     "text": [
      "England and Wales  :  665.6337634912874\n",
      "Scotland  :  671.1825423822648\n",
      "Ireland  :  563.3716668531571\n"
     ]
    }
   ],
   "source": [
    "for i in bills.columns:\n",
    "    print(i+\"  :  \"+ str(bills[i].mean()))"
   ]
  },
  {
   "cell_type": "code",
   "execution_count": null,
   "metadata": {},
   "outputs": [],
   "source": []
  }
 ],
 "metadata": {
  "kernelspec": {
   "display_name": "Python 3",
   "language": "python",
   "name": "python3"
  },
  "language_info": {
   "codemirror_mode": {
    "name": "ipython",
    "version": 3
   },
   "file_extension": ".py",
   "mimetype": "text/x-python",
   "name": "python",
   "nbconvert_exporter": "python",
   "pygments_lexer": "ipython3",
   "version": "3.11.0"
  },
  "orig_nbformat": 4
 },
 "nbformat": 4,
 "nbformat_minor": 2
}
